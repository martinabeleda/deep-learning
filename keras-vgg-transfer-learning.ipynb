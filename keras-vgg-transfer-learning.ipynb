{
 "cells": [
  {
   "cell_type": "markdown",
   "metadata": {},
   "source": [
    "# Transfer Learning with Keras\n",
    "\n",
    "In this example, we'll use a pretrained convnet to boost the performance on a small dataset. The dataset is taken from the cats vs dogs challenge on [Kaggle](https://www.kaggle.com/c/dogs-vs-cats/data). Using a network pretrained on ImageNet allows us to leverage the learned features from a general task and fine-tune them for the more specific task of identifying cats and dogs. The idea is that a model trained on a large-scale dataset will learn a generic model for the visual world which could be useful even though we are using them for a different task.\n",
    "\n",
    "If the dataset hasn't been created, first download and extract the Kaggle dataset, then run the following python script from the terminal:\n",
    "```\n",
    "python3 make_cats_and_dogs_dataset.py\n",
    "```\n",
    "\n",
    "There are varying levels of transfer learning. We can use the pretrained convolutional network as a feature extractor and train a classifier on top of this or we can take a pre-trained network and fine-tune the weights. \n",
    "\n",
    "## Feature Extraction\n",
    "The paper [CNN Features: Off-the-shelf](https://www.cv-foundation.org/openaccess/content_cvpr_workshops_2014/W15/html/Razavian_CNN_Features_Off-the-Shelf_2014_CVPR_paper.html) confirms the effectiveness of pretrained CNNs as a feature extractor for various image recognition tasks. We will follow the approach of this paper in taking and freezing the convolutional base of the pre-trained network, discarding the fully connected layers and retraining a new classifier on the convolutional base.\n",
    "\n"
   ]
  },
  {
   "cell_type": "code",
   "execution_count": 11,
   "metadata": {},
   "outputs": [
    {
     "name": "stdout",
     "output_type": "stream",
     "text": [
      "env: CUDA_VISIBLE_DEVICES=0\n"
     ]
    }
   ],
   "source": [
    "# select GPU\n",
    "%env CUDA_VISIBLE_DEVICES=0\n",
    "\n",
    "from keras.applications.vgg16 import VGG16\n",
    "import os\n",
    "\n",
    "conv_base = VGG16(include_top=False, weights='imagenet', input_shape=(150, 150, 3))"
   ]
  },
  {
   "cell_type": "markdown",
   "metadata": {},
   "source": [
    "Now let's add the the convolutional base to our model with dense fully connected layers on top"
   ]
  },
  {
   "cell_type": "code",
   "execution_count": 16,
   "metadata": {},
   "outputs": [
    {
     "name": "stdout",
     "output_type": "stream",
     "text": [
      "_________________________________________________________________\n",
      "Layer (type)                 Output Shape              Param #   \n",
      "=================================================================\n",
      "vgg16 (Model)                (None, 4, 4, 512)         14714688  \n",
      "_________________________________________________________________\n",
      "flatten_3 (Flatten)          (None, 8192)              0         \n",
      "_________________________________________________________________\n",
      "dense_5 (Dense)              (None, 256)               2097408   \n",
      "_________________________________________________________________\n",
      "dense_6 (Dense)              (None, 1)                 257       \n",
      "=================================================================\n",
      "Total params: 16,812,353\n",
      "Trainable params: 2,097,665\n",
      "Non-trainable params: 14,714,688\n",
      "_________________________________________________________________\n"
     ]
    }
   ],
   "source": [
    "from keras import models\n",
    "from keras.layers import Flatten, Dense, Dropout\n",
    "\n",
    "model = models.Sequential()\n",
    "model.add(conv_base)\n",
    "model.add(Flatten())\n",
    "model.add(Dense(256, activation='relu'))\n",
    "model.add(Dense(1, activation='sigmoid'))\n",
    "\n",
    "model.summary()"
   ]
  },
  {
   "cell_type": "markdown",
   "metadata": {},
   "source": [
    "Now, we freeze the pre-trained weights so that they don't change during the transfer learning process."
   ]
  },
  {
   "cell_type": "code",
   "execution_count": 17,
   "metadata": {},
   "outputs": [
    {
     "name": "stdout",
     "output_type": "stream",
     "text": [
      "Trainable layers:  4\n"
     ]
    }
   ],
   "source": [
    "for layer in conv_base.layers:\n",
    "    layer.trainable = False\n",
    "\n",
    "print('Trainable layers: ', len(model.trainable_weights))"
   ]
  },
  {
   "cell_type": "markdown",
   "metadata": {},
   "source": [
    "Now, only the two Dense layers contain trainable weights. They contain two per layer: the main weight matrix and the bias vector.\n",
    "\n",
    "Now we can start training the model using data augmentation to reduce overfitting."
   ]
  },
  {
   "cell_type": "code",
   "execution_count": 18,
   "metadata": {},
   "outputs": [
    {
     "name": "stdout",
     "output_type": "stream",
     "text": [
      "Found 2001 images belonging to 2 classes.\n",
      "Found 1005 images belonging to 2 classes.\n",
      "Epoch 1/50\n",
      " - 28s - loss: 0.6048 - acc: 0.6813 - val_loss: 0.4768 - val_acc: 0.8000\n",
      "Epoch 2/50\n",
      " - 24s - loss: 0.4922 - acc: 0.7912 - val_loss: 0.3885 - val_acc: 0.8488\n",
      "Epoch 3/50\n",
      " - 23s - loss: 0.4669 - acc: 0.7825 - val_loss: 0.3436 - val_acc: 0.8538\n",
      "Epoch 4/50\n",
      " - 25s - loss: 0.3994 - acc: 0.8256 - val_loss: 0.3122 - val_acc: 0.8800\n",
      "Epoch 5/50\n",
      " - 23s - loss: 0.3906 - acc: 0.8200 - val_loss: 0.2917 - val_acc: 0.8862\n",
      "Epoch 6/50\n",
      " - 25s - loss: 0.3687 - acc: 0.8326 - val_loss: 0.2870 - val_acc: 0.8875\n",
      "Epoch 7/50\n",
      " - 24s - loss: 0.3856 - acc: 0.8350 - val_loss: 0.2747 - val_acc: 0.8912\n",
      "Epoch 8/50\n",
      " - 23s - loss: 0.3331 - acc: 0.8481 - val_loss: 0.2721 - val_acc: 0.8912\n",
      "Epoch 9/50\n",
      " - 24s - loss: 0.3528 - acc: 0.8431 - val_loss: 0.2618 - val_acc: 0.8962\n",
      "Epoch 10/50\n",
      " - 24s - loss: 0.3487 - acc: 0.8469 - val_loss: 0.2562 - val_acc: 0.8988\n",
      "Epoch 11/50\n",
      " - 25s - loss: 0.3335 - acc: 0.8475 - val_loss: 0.2551 - val_acc: 0.8988\n",
      "Epoch 12/50\n",
      " - 24s - loss: 0.3342 - acc: 0.8543 - val_loss: 0.2485 - val_acc: 0.8950\n",
      "Epoch 13/50\n",
      " - 24s - loss: 0.3300 - acc: 0.8531 - val_loss: 0.2473 - val_acc: 0.8950\n",
      "Epoch 14/50\n",
      " - 24s - loss: 0.3407 - acc: 0.8500 - val_loss: 0.2460 - val_acc: 0.8975\n",
      "Epoch 15/50\n",
      " - 24s - loss: 0.3386 - acc: 0.8588 - val_loss: 0.2401 - val_acc: 0.9062\n",
      "Epoch 16/50\n",
      " - 24s - loss: 0.3051 - acc: 0.8694 - val_loss: 0.2375 - val_acc: 0.9087\n",
      "Epoch 17/50\n",
      " - 24s - loss: 0.3263 - acc: 0.8494 - val_loss: 0.2403 - val_acc: 0.9025\n",
      "Epoch 18/50\n",
      " - 23s - loss: 0.3431 - acc: 0.8438 - val_loss: 0.2363 - val_acc: 0.9062\n",
      "Epoch 19/50\n",
      " - 24s - loss: 0.3000 - acc: 0.8662 - val_loss: 0.2449 - val_acc: 0.8925\n",
      "Epoch 20/50\n",
      " - 24s - loss: 0.3135 - acc: 0.8556 - val_loss: 0.2403 - val_acc: 0.9000\n",
      "Epoch 21/50\n",
      " - 23s - loss: 0.2951 - acc: 0.8676 - val_loss: 0.2341 - val_acc: 0.9050\n",
      "Epoch 22/50\n",
      " - 24s - loss: 0.3226 - acc: 0.8569 - val_loss: 0.2319 - val_acc: 0.9038\n",
      "Epoch 23/50\n",
      " - 24s - loss: 0.3019 - acc: 0.8681 - val_loss: 0.2329 - val_acc: 0.9062\n",
      "Epoch 24/50\n",
      " - 24s - loss: 0.2934 - acc: 0.8725 - val_loss: 0.2324 - val_acc: 0.9038\n",
      "Epoch 25/50\n",
      " - 24s - loss: 0.3131 - acc: 0.8631 - val_loss: 0.2406 - val_acc: 0.8962\n",
      "Epoch 26/50\n",
      " - 24s - loss: 0.3176 - acc: 0.8576 - val_loss: 0.2332 - val_acc: 0.9038\n",
      "Epoch 27/50\n",
      " - 24s - loss: 0.2867 - acc: 0.8806 - val_loss: 0.2307 - val_acc: 0.9100\n",
      "Epoch 28/50\n",
      " - 24s - loss: 0.2976 - acc: 0.8644 - val_loss: 0.2311 - val_acc: 0.9025\n",
      "Epoch 29/50\n",
      " - 23s - loss: 0.2818 - acc: 0.8756 - val_loss: 0.2273 - val_acc: 0.9012\n",
      "Epoch 30/50\n",
      " - 24s - loss: 0.3040 - acc: 0.8770 - val_loss: 0.2262 - val_acc: 0.9050\n",
      "Epoch 31/50\n",
      " - 23s - loss: 0.2860 - acc: 0.8744 - val_loss: 0.2267 - val_acc: 0.9062\n",
      "Epoch 32/50\n",
      " - 24s - loss: 0.3004 - acc: 0.8669 - val_loss: 0.2423 - val_acc: 0.9025\n",
      "Epoch 33/50\n",
      " - 24s - loss: 0.2702 - acc: 0.8863 - val_loss: 0.2297 - val_acc: 0.9062\n",
      "Epoch 34/50\n",
      " - 23s - loss: 0.2998 - acc: 0.8751 - val_loss: 0.2300 - val_acc: 0.9062\n",
      "Epoch 35/50\n",
      " - 26s - loss: 0.2757 - acc: 0.8856 - val_loss: 0.2446 - val_acc: 0.8962\n",
      "Epoch 36/50\n",
      " - 24s - loss: 0.2980 - acc: 0.8787 - val_loss: 0.2313 - val_acc: 0.9012\n",
      "Epoch 37/50\n",
      " - 24s - loss: 0.2643 - acc: 0.8744 - val_loss: 0.2276 - val_acc: 0.9050\n",
      "Epoch 38/50\n",
      " - 24s - loss: 0.2913 - acc: 0.8762 - val_loss: 0.2295 - val_acc: 0.8975\n",
      "Epoch 39/50\n",
      " - 24s - loss: 0.2724 - acc: 0.8887 - val_loss: 0.2253 - val_acc: 0.9100\n",
      "Epoch 40/50\n",
      " - 25s - loss: 0.2783 - acc: 0.8787 - val_loss: 0.2256 - val_acc: 0.9087\n",
      "Epoch 41/50\n",
      " - 24s - loss: 0.2857 - acc: 0.8831 - val_loss: 0.2372 - val_acc: 0.9025\n",
      "Epoch 42/50\n",
      " - 24s - loss: 0.2719 - acc: 0.8787 - val_loss: 0.2255 - val_acc: 0.9075\n",
      "Epoch 43/50\n",
      " - 24s - loss: 0.2841 - acc: 0.8750 - val_loss: 0.2248 - val_acc: 0.9050\n",
      "Epoch 44/50\n",
      " - 23s - loss: 0.2888 - acc: 0.8756 - val_loss: 0.2251 - val_acc: 0.9075\n",
      "Epoch 45/50\n",
      " - 24s - loss: 0.2520 - acc: 0.8981 - val_loss: 0.2286 - val_acc: 0.9075\n",
      "Epoch 46/50\n",
      " - 24s - loss: 0.2646 - acc: 0.8862 - val_loss: 0.2619 - val_acc: 0.8850\n",
      "Epoch 47/50\n",
      " - 24s - loss: 0.2780 - acc: 0.8781 - val_loss: 0.2288 - val_acc: 0.9100\n",
      "Epoch 48/50\n",
      " - 25s - loss: 0.2676 - acc: 0.8837 - val_loss: 0.2411 - val_acc: 0.8988\n",
      "Epoch 49/50\n",
      " - 24s - loss: 0.2702 - acc: 0.8695 - val_loss: 0.2260 - val_acc: 0.9100\n",
      "Epoch 50/50\n",
      " - 25s - loss: 0.2581 - acc: 0.8900 - val_loss: 0.2281 - val_acc: 0.9075\n"
     ]
    }
   ],
   "source": [
    "from keras.preprocessing.image import ImageDataGenerator\n",
    "from keras.optimizers import RMSprop\n",
    "\n",
    "target_size = (150, 150)\n",
    "batch_size = 16\n",
    "learning_rate = 2e-5\n",
    "epochs=50\n",
    "\n",
    "train_dir = os.path.join('data', 'cats_and_dogs_small', 'train')\n",
    "validation_dir = os.path.join('data', 'cats_and_dogs_small', 'validation')\n",
    "\n",
    "train_datagen = ImageDataGenerator(rescale=1./255,\n",
    "                                  rotation_range=40,\n",
    "                                  width_shift_range=0.2,\n",
    "                                  height_shift_range=0.2,\n",
    "                                  shear_range=0.2,\n",
    "                                  zoom_range=0.2,\n",
    "                                  horizontal_flip=True,\n",
    "                                  fill_mode='nearest')\n",
    "\n",
    "test_datagen = ImageDataGenerator(rescale=1./255)\n",
    "\n",
    "train_generator = train_datagen.flow_from_directory(train_dir,\n",
    "                                                   target_size=target_size,\n",
    "                                                   batch_size=batch_size,\n",
    "                                                   class_mode='binary')\n",
    "\n",
    "validation_generator = test_datagen.flow_from_directory(validation_dir,\n",
    "                                                       target_size=target_size,\n",
    "                                                       batch_size=batch_size,\n",
    "                                                       class_mode='binary')\n",
    "\n",
    "model.compile(loss='binary_crossentropy',\n",
    "             optimizer=RMSprop(lr=learning_rate),\n",
    "             metrics=['acc'])\n",
    "\n",
    "history = model.fit_generator(train_generator,\n",
    "                             steps_per_epoch=100,\n",
    "                             epochs=epochs,\n",
    "                             validation_data=validation_generator,\n",
    "                             validation_steps=50,\n",
    "                             verbose=2)"
   ]
  },
  {
   "cell_type": "markdown",
   "metadata": {},
   "source": [
    "Let's plot the results."
   ]
  },
  {
   "cell_type": "code",
   "execution_count": 19,
   "metadata": {},
   "outputs": [
    {
     "data": {
      "image/png": "[encoded data removed]",
      "text/plain": [
       "<Figure size 1440x720 with 2 Axes>"
      ]
     },
     "metadata": {},
     "output_type": "display_data"
    }
   ],
   "source": [
    "import matplotlib.pyplot as plt\n",
    "\n",
    "ys = range(1, epochs + 1)\n",
    "\n",
    "f, (ax1, ax2) = plt.subplots(1, 2, figsize=(20,10))\n",
    "ax1.plot(ys, history.history['acc'], 'b-', label='Training acc')\n",
    "ax1.plot(ys, history.history['val_acc'], 'r-', label='Validation acc')\n",
    "ax1.set_title('Training and validation accuracy')\n",
    "ax1.set_xlabel('Number of epochs')\n",
    "ax1.set_ylabel('Accuracy')\n",
    "ax1.legend()\n",
    "\n",
    "ax2.plot(ys, history.history['loss'], 'b-', label='Training loss')\n",
    "ax2.plot(ys, history.history['val_loss'], 'r-', label='Validation loss')\n",
    "ax2.set_title('Training and validation loss')\n",
    "ax2.set_xlabel('Number of epochs')\n",
    "ax2.set_ylabel('Loss')\n",
    "ax2.legend()\n",
    "\n",
    "plt.show()"
   ]
  },
  {
   "cell_type": "code",
   "execution_count": 20,
   "metadata": {},
   "outputs": [],
   "source": [
    "model.save('models/vgg-cats-dogs-classifier.hdf5')"
   ]
  },
  {
   "cell_type": "markdown",
   "metadata": {},
   "source": [
    "## Fine-tuning\n",
    "\n",
    "We can further increase the performance of the network by fine-tuning the top convolutional layers. It is necessary to first train the classifier as we have just done, otherwise the error propagating through backprop will destroy the pre-trained convolutional features."
   ]
  },
  {
   "cell_type": "code",
   "execution_count": 21,
   "metadata": {},
   "outputs": [
    {
     "name": "stdout",
     "output_type": "stream",
     "text": [
      "Epoch 1/50\n",
      " - 27s - loss: 0.2813 - acc: 0.8756 - val_loss: 0.2339 - val_acc: 0.9025\n",
      "Epoch 2/50\n",
      " - 24s - loss: 0.2460 - acc: 0.9038 - val_loss: 0.2283 - val_acc: 0.9100\n",
      "Epoch 3/50\n",
      " - 24s - loss: 0.2579 - acc: 0.8900 - val_loss: 0.2306 - val_acc: 0.9000\n",
      "Epoch 4/50\n",
      " - 24s - loss: 0.2697 - acc: 0.8881 - val_loss: 0.2264 - val_acc: 0.9050\n",
      "Epoch 5/50\n",
      " - 24s - loss: 0.2542 - acc: 0.8812 - val_loss: 0.2261 - val_acc: 0.9075\n",
      "Epoch 6/50\n",
      " - 26s - loss: 0.2714 - acc: 0.8756 - val_loss: 0.2271 - val_acc: 0.9087\n",
      "Epoch 7/50\n",
      " - 24s - loss: 0.2532 - acc: 0.8876 - val_loss: 0.2278 - val_acc: 0.9075\n",
      "Epoch 8/50\n",
      " - 25s - loss: 0.2632 - acc: 0.8875 - val_loss: 0.2263 - val_acc: 0.9038\n",
      "Epoch 9/50\n",
      " - 23s - loss: 0.2546 - acc: 0.8956 - val_loss: 0.2267 - val_acc: 0.9050\n",
      "Epoch 10/50\n",
      " - 24s - loss: 0.2606 - acc: 0.8837 - val_loss: 0.2250 - val_acc: 0.9050\n",
      "Epoch 11/50\n",
      " - 25s - loss: 0.2647 - acc: 0.8844 - val_loss: 0.2297 - val_acc: 0.9137\n",
      "Epoch 12/50\n",
      " - 24s - loss: 0.2553 - acc: 0.8956 - val_loss: 0.2285 - val_acc: 0.9050\n",
      "Epoch 13/50\n",
      " - 24s - loss: 0.2635 - acc: 0.8925 - val_loss: 0.2259 - val_acc: 0.9050\n",
      "Epoch 14/50\n",
      " - 23s - loss: 0.2410 - acc: 0.8994 - val_loss: 0.2314 - val_acc: 0.9100\n",
      "Epoch 15/50\n",
      " - 24s - loss: 0.2488 - acc: 0.8956 - val_loss: 0.2275 - val_acc: 0.9038\n",
      "Epoch 16/50\n",
      " - 24s - loss: 0.2687 - acc: 0.8726 - val_loss: 0.2270 - val_acc: 0.9100\n",
      "Epoch 17/50\n",
      " - 24s - loss: 0.2510 - acc: 0.8925 - val_loss: 0.2278 - val_acc: 0.9062\n",
      "Epoch 18/50\n",
      " - 24s - loss: 0.2782 - acc: 0.8769 - val_loss: 0.2277 - val_acc: 0.9100\n",
      "Epoch 19/50\n",
      " - 23s - loss: 0.2517 - acc: 0.8844 - val_loss: 0.2261 - val_acc: 0.9113\n",
      "Epoch 20/50\n",
      " - 24s - loss: 0.2450 - acc: 0.8994 - val_loss: 0.2289 - val_acc: 0.9025\n",
      "Epoch 21/50\n",
      " - 24s - loss: 0.2459 - acc: 0.8900 - val_loss: 0.2270 - val_acc: 0.9087\n",
      "Epoch 22/50\n",
      " - 24s - loss: 0.2472 - acc: 0.9019 - val_loss: 0.2282 - val_acc: 0.9100\n",
      "Epoch 23/50\n",
      " - 24s - loss: 0.2611 - acc: 0.8882 - val_loss: 0.2271 - val_acc: 0.9113\n",
      "Epoch 24/50\n",
      " - 24s - loss: 0.2655 - acc: 0.8844 - val_loss: 0.2317 - val_acc: 0.9050\n",
      "Epoch 25/50\n",
      " - 24s - loss: 0.2410 - acc: 0.9000 - val_loss: 0.2250 - val_acc: 0.9100\n",
      "Epoch 26/50\n",
      " - 24s - loss: 0.2526 - acc: 0.8981 - val_loss: 0.2256 - val_acc: 0.9050\n",
      "Epoch 27/50\n",
      " - 24s - loss: 0.2531 - acc: 0.8906 - val_loss: 0.2260 - val_acc: 0.9087\n",
      "Epoch 28/50\n",
      " - 24s - loss: 0.2713 - acc: 0.8894 - val_loss: 0.2296 - val_acc: 0.9025\n",
      "Epoch 29/50\n",
      " - 23s - loss: 0.2419 - acc: 0.9044 - val_loss: 0.2278 - val_acc: 0.9012\n",
      "Epoch 30/50\n",
      " - 24s - loss: 0.2676 - acc: 0.8831 - val_loss: 0.2251 - val_acc: 0.9012\n",
      "Epoch 31/50\n",
      " - 24s - loss: 0.2581 - acc: 0.8806 - val_loss: 0.2252 - val_acc: 0.9025\n",
      "Epoch 32/50\n",
      " - 23s - loss: 0.2590 - acc: 0.8887 - val_loss: 0.2239 - val_acc: 0.9050\n",
      "Epoch 33/50\n",
      " - 25s - loss: 0.2588 - acc: 0.8881 - val_loss: 0.2296 - val_acc: 0.9038\n",
      "Epoch 34/50\n",
      " - 23s - loss: 0.2481 - acc: 0.9000 - val_loss: 0.2256 - val_acc: 0.9062\n",
      "Epoch 35/50\n",
      " - 26s - loss: 0.2662 - acc: 0.8862 - val_loss: 0.2346 - val_acc: 0.9050\n",
      "Epoch 36/50\n",
      " - 24s - loss: 0.2401 - acc: 0.9037 - val_loss: 0.2252 - val_acc: 0.9025\n",
      "Epoch 37/50\n",
      " - 24s - loss: 0.2385 - acc: 0.9019 - val_loss: 0.2298 - val_acc: 0.9025\n",
      "Epoch 38/50\n",
      " - 24s - loss: 0.2495 - acc: 0.8844 - val_loss: 0.2252 - val_acc: 0.9012\n",
      "Epoch 39/50\n",
      " - 24s - loss: 0.2671 - acc: 0.8837 - val_loss: 0.2257 - val_acc: 0.9050\n",
      "Epoch 40/50\n",
      " - 25s - loss: 0.2499 - acc: 0.8912 - val_loss: 0.2265 - val_acc: 0.9062\n",
      "Epoch 41/50\n",
      " - 24s - loss: 0.2412 - acc: 0.8994 - val_loss: 0.2252 - val_acc: 0.9050\n",
      "Epoch 42/50\n",
      " - 24s - loss: 0.2671 - acc: 0.8900 - val_loss: 0.2261 - val_acc: 0.8988\n",
      "Epoch 43/50\n",
      " - 24s - loss: 0.2549 - acc: 0.8937 - val_loss: 0.2258 - val_acc: 0.9062\n",
      "Epoch 44/50\n",
      " - 23s - loss: 0.2268 - acc: 0.9087 - val_loss: 0.2304 - val_acc: 0.9050\n",
      "Epoch 45/50\n",
      " - 24s - loss: 0.2391 - acc: 0.9012 - val_loss: 0.2259 - val_acc: 0.9038\n",
      "Epoch 46/50\n",
      " - 24s - loss: 0.2512 - acc: 0.8919 - val_loss: 0.2277 - val_acc: 0.9038\n",
      "Epoch 47/50\n",
      " - 23s - loss: 0.2362 - acc: 0.9000 - val_loss: 0.2252 - val_acc: 0.9012\n",
      "Epoch 48/50\n",
      " - 24s - loss: 0.2234 - acc: 0.9031 - val_loss: 0.2249 - val_acc: 0.9025\n",
      "Epoch 49/50\n",
      " - 24s - loss: 0.2391 - acc: 0.8969 - val_loss: 0.2281 - val_acc: 0.9062\n",
      "Epoch 50/50\n",
      " - 24s - loss: 0.2515 - acc: 0.8981 - val_loss: 0.2283 - val_acc: 0.9062\n"
     ]
    }
   ],
   "source": [
    "# freeze the first 14 layers\n",
    "conv_base.trainable = True\n",
    "for layer in conv_base.layers[:14]:\n",
    "    layer.trainable = False\n",
    "    \n",
    "# recompile the model\n",
    "learning_rate=1e-5\n",
    "model.compile(loss='binary_crossentropy',\n",
    "             optimizer=RMSprop(lr=learning_rate),\n",
    "             metrics=['accuracy'])\n",
    "\n",
    "# refit the model\n",
    "history = model.fit_generator(train_generator,\n",
    "                             steps_per_epoch=100,\n",
    "                             epochs=epochs,\n",
    "                             validation_data=validation_generator,\n",
    "                             validation_steps=50,\n",
    "                             verbose=2)"
   ]
  },
  {
   "cell_type": "markdown",
   "metadata": {},
   "source": [
    "Now, let's evaluate the model's final performance on the test set."
   ]
  },
  {
   "cell_type": "code",
   "execution_count": 22,
   "metadata": {},
   "outputs": [
    {
     "name": "stdout",
     "output_type": "stream",
     "text": [
      "Found 1000 images belonging to 2 classes.\n",
      "loss :  0.23925428041815758\n",
      "acc :  0.904\n"
     ]
    }
   ],
   "source": [
    "test_dir = os.path.join('data', 'cats_and_dogs_small', 'test')\n",
    "test_generator = test_datagen.flow_from_directory(test_dir,\n",
    "                                                 target_size=target_size,\n",
    "                                                 batch_size=batch_size,\n",
    "                                                 class_mode='binary')\n",
    "\n",
    "metrics = model.evaluate_generator(test_generator)\n",
    "\n",
    "for i, metric in enumerate(metrics):\n",
    "    print(model.metrics_names[i], ': ', metric)"
   ]
  }
 ],
 "metadata": {
  "kernelspec": {
   "display_name": "Python 3",
   "language": "python",
   "name": "python3"
  },
  "language_info": {
   "codemirror_mode": {
    "name": "ipython",
    "version": 3
   },
   "file_extension": ".py",
   "mimetype": "text/x-python",
   "name": "python",
   "nbconvert_exporter": "python",
   "pygments_lexer": "ipython3",
   "version": "3.6.5"
  }
 },
 "nbformat": 4,
 "nbformat_minor": 2
}
